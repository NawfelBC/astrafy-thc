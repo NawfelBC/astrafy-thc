{
  "cells": [
    {
      "cell_type": "code",
      "execution_count": 53,
      "metadata": {
        "id": "w6MmeBUBJ-9E"
      },
      "outputs": [],
      "source": [
        "# @title Setup\n",
        "from google.colab import auth\n",
        "from google.cloud import bigquery\n",
        "from google.colab import data_table\n",
        "\n",
        "project = 'astrafy-thc' # Project ID inserted based on the query results selected to explore\n",
        "location = 'US' # Location inserted based on the query results selected to explore\n",
        "client = bigquery.Client(project=project, location=location)\n",
        "data_table.enable_dataframe_formatter()\n",
        "auth.authenticate_user()"
      ]
    },
    {
      "cell_type": "code",
      "execution_count": 54,
      "metadata": {
        "id": "KxSqPfAeXW_K",
        "colab": {
          "base_uri": "https://localhost:8080/"
        },
        "outputId": "1f7fbd2e-9c6f-4d00-b9af-38ac5893e1ce"
      },
      "outputs": [
        {
          "output_type": "stream",
          "name": "stdout",
          "text": [
            "SELECT * FROM `astrafy-thc.dbt_nawfelbc.count_transactions`\n"
          ]
        }
      ],
      "source": [
        "# Running this code will display the query used to generate your previous job\n",
        "\n",
        "job = client.get_job('bquxjob_30816329_184148cbf49') # Job ID inserted based on the query results selected to explore\n",
        "print(job.query)"
      ]
    },
    {
      "cell_type": "code",
      "execution_count": 55,
      "metadata": {
        "id": "bIw82qhuHWy0",
        "colab": {
          "base_uri": "https://localhost:8080/",
          "height": 637
        },
        "outputId": "3db01e0b-17a5-47a9-bb66-dc1f280661d1"
      },
      "outputs": [
        {
          "output_type": "execute_result",
          "data": {
            "text/plain": [
              "          date  number_of_transactions\n",
              "0   2022-07-26                   33182\n",
              "1   2022-07-27                   31662\n",
              "2   2022-07-28                   34727\n",
              "3   2022-07-29                   34637\n",
              "4   2022-07-30                   31186\n",
              "..         ...                     ...\n",
              "86  2022-10-20                   18168\n",
              "87  2022-10-21                   19182\n",
              "88  2022-10-22                   17370\n",
              "89  2022-10-23                   17615\n",
              "90  2022-10-24                   18300\n",
              "\n",
              "[91 rows x 2 columns]"
            ],
            "text/html": [
              "\n",
              "  <div id=\"df-9678b7c6-a21b-4cca-b6f8-fdfb5b8f9fd1\">\n",
              "    <div class=\"colab-df-container\">\n",
              "      <div>\n",
              "<style scoped>\n",
              "    .dataframe tbody tr th:only-of-type {\n",
              "        vertical-align: middle;\n",
              "    }\n",
              "\n",
              "    .dataframe tbody tr th {\n",
              "        vertical-align: top;\n",
              "    }\n",
              "\n",
              "    .dataframe thead th {\n",
              "        text-align: right;\n",
              "    }\n",
              "</style>\n",
              "<table border=\"1\" class=\"dataframe\">\n",
              "  <thead>\n",
              "    <tr style=\"text-align: right;\">\n",
              "      <th></th>\n",
              "      <th>date</th>\n",
              "      <th>number_of_transactions</th>\n",
              "    </tr>\n",
              "  </thead>\n",
              "  <tbody>\n",
              "    <tr>\n",
              "      <th>0</th>\n",
              "      <td>2022-07-26</td>\n",
              "      <td>33182</td>\n",
              "    </tr>\n",
              "    <tr>\n",
              "      <th>1</th>\n",
              "      <td>2022-07-27</td>\n",
              "      <td>31662</td>\n",
              "    </tr>\n",
              "    <tr>\n",
              "      <th>2</th>\n",
              "      <td>2022-07-28</td>\n",
              "      <td>34727</td>\n",
              "    </tr>\n",
              "    <tr>\n",
              "      <th>3</th>\n",
              "      <td>2022-07-29</td>\n",
              "      <td>34637</td>\n",
              "    </tr>\n",
              "    <tr>\n",
              "      <th>4</th>\n",
              "      <td>2022-07-30</td>\n",
              "      <td>31186</td>\n",
              "    </tr>\n",
              "    <tr>\n",
              "      <th>...</th>\n",
              "      <td>...</td>\n",
              "      <td>...</td>\n",
              "    </tr>\n",
              "    <tr>\n",
              "      <th>86</th>\n",
              "      <td>2022-10-20</td>\n",
              "      <td>18168</td>\n",
              "    </tr>\n",
              "    <tr>\n",
              "      <th>87</th>\n",
              "      <td>2022-10-21</td>\n",
              "      <td>19182</td>\n",
              "    </tr>\n",
              "    <tr>\n",
              "      <th>88</th>\n",
              "      <td>2022-10-22</td>\n",
              "      <td>17370</td>\n",
              "    </tr>\n",
              "    <tr>\n",
              "      <th>89</th>\n",
              "      <td>2022-10-23</td>\n",
              "      <td>17615</td>\n",
              "    </tr>\n",
              "    <tr>\n",
              "      <th>90</th>\n",
              "      <td>2022-10-24</td>\n",
              "      <td>18300</td>\n",
              "    </tr>\n",
              "  </tbody>\n",
              "</table>\n",
              "<p>91 rows × 2 columns</p>\n",
              "</div>\n",
              "      <button class=\"colab-df-convert\" onclick=\"convertToInteractive('df-9678b7c6-a21b-4cca-b6f8-fdfb5b8f9fd1')\"\n",
              "              title=\"Convert this dataframe to an interactive table.\"\n",
              "              style=\"display:none;\">\n",
              "        \n",
              "  <svg xmlns=\"http://www.w3.org/2000/svg\" height=\"24px\"viewBox=\"0 0 24 24\"\n",
              "       width=\"24px\">\n",
              "    <path d=\"M0 0h24v24H0V0z\" fill=\"none\"/>\n",
              "    <path d=\"M18.56 5.44l.94 2.06.94-2.06 2.06-.94-2.06-.94-.94-2.06-.94 2.06-2.06.94zm-11 1L8.5 8.5l.94-2.06 2.06-.94-2.06-.94L8.5 2.5l-.94 2.06-2.06.94zm10 10l.94 2.06.94-2.06 2.06-.94-2.06-.94-.94-2.06-.94 2.06-2.06.94z\"/><path d=\"M17.41 7.96l-1.37-1.37c-.4-.4-.92-.59-1.43-.59-.52 0-1.04.2-1.43.59L10.3 9.45l-7.72 7.72c-.78.78-.78 2.05 0 2.83L4 21.41c.39.39.9.59 1.41.59.51 0 1.02-.2 1.41-.59l7.78-7.78 2.81-2.81c.8-.78.8-2.07 0-2.86zM5.41 20L4 18.59l7.72-7.72 1.47 1.35L5.41 20z\"/>\n",
              "  </svg>\n",
              "      </button>\n",
              "      \n",
              "  <style>\n",
              "    .colab-df-container {\n",
              "      display:flex;\n",
              "      flex-wrap:wrap;\n",
              "      gap: 12px;\n",
              "    }\n",
              "\n",
              "    .colab-df-convert {\n",
              "      background-color: #E8F0FE;\n",
              "      border: none;\n",
              "      border-radius: 50%;\n",
              "      cursor: pointer;\n",
              "      display: none;\n",
              "      fill: #1967D2;\n",
              "      height: 32px;\n",
              "      padding: 0 0 0 0;\n",
              "      width: 32px;\n",
              "    }\n",
              "\n",
              "    .colab-df-convert:hover {\n",
              "      background-color: #E2EBFA;\n",
              "      box-shadow: 0px 1px 2px rgba(60, 64, 67, 0.3), 0px 1px 3px 1px rgba(60, 64, 67, 0.15);\n",
              "      fill: #174EA6;\n",
              "    }\n",
              "\n",
              "    [theme=dark] .colab-df-convert {\n",
              "      background-color: #3B4455;\n",
              "      fill: #D2E3FC;\n",
              "    }\n",
              "\n",
              "    [theme=dark] .colab-df-convert:hover {\n",
              "      background-color: #434B5C;\n",
              "      box-shadow: 0px 1px 3px 1px rgba(0, 0, 0, 0.15);\n",
              "      filter: drop-shadow(0px 1px 2px rgba(0, 0, 0, 0.3));\n",
              "      fill: #FFFFFF;\n",
              "    }\n",
              "  </style>\n",
              "\n",
              "      <script>\n",
              "        const buttonEl =\n",
              "          document.querySelector('#df-9678b7c6-a21b-4cca-b6f8-fdfb5b8f9fd1 button.colab-df-convert');\n",
              "        buttonEl.style.display =\n",
              "          google.colab.kernel.accessAllowed ? 'block' : 'none';\n",
              "\n",
              "        async function convertToInteractive(key) {\n",
              "          const element = document.querySelector('#df-9678b7c6-a21b-4cca-b6f8-fdfb5b8f9fd1');\n",
              "          const dataTable =\n",
              "            await google.colab.kernel.invokeFunction('convertToInteractive',\n",
              "                                                     [key], {});\n",
              "          if (!dataTable) return;\n",
              "\n",
              "          const docLinkHtml = 'Like what you see? Visit the ' +\n",
              "            '<a target=\"_blank\" href=https://colab.research.google.com/notebooks/data_table.ipynb>data table notebook</a>'\n",
              "            + ' to learn more about interactive tables.';\n",
              "          element.innerHTML = '';\n",
              "          dataTable['output_type'] = 'display_data';\n",
              "          await google.colab.output.renderOutput(dataTable, element);\n",
              "          const docLink = document.createElement('div');\n",
              "          docLink.innerHTML = docLinkHtml;\n",
              "          element.appendChild(docLink);\n",
              "        }\n",
              "      </script>\n",
              "    </div>\n",
              "  </div>\n",
              "  "
            ],
            "application/vnd.google.colaboratory.module+javascript": "\n      import \"https://ssl.gstatic.com/colaboratory/data_table/a8bd4d5e58f96183/data_table.js\";\n\n      window.createDataTable({\n        data: [[{\n            'v': 0,\n            'f': \"0\",\n        },\n\"2022-07-26\",\n{\n            'v': 33182,\n            'f': \"33182\",\n        }],\n [{\n            'v': 1,\n            'f': \"1\",\n        },\n\"2022-07-27\",\n{\n            'v': 31662,\n            'f': \"31662\",\n        }],\n [{\n            'v': 2,\n            'f': \"2\",\n        },\n\"2022-07-28\",\n{\n            'v': 34727,\n            'f': \"34727\",\n        }],\n [{\n            'v': 3,\n            'f': \"3\",\n        },\n\"2022-07-29\",\n{\n            'v': 34637,\n            'f': \"34637\",\n        }],\n [{\n            'v': 4,\n            'f': \"4\",\n        },\n\"2022-07-30\",\n{\n            'v': 31186,\n            'f': \"31186\",\n        }],\n [{\n            'v': 5,\n            'f': \"5\",\n        },\n\"2022-07-31\",\n{\n            'v': 30726,\n            'f': \"30726\",\n        }],\n [{\n            'v': 6,\n            'f': \"6\",\n        },\n\"2022-08-01\",\n{\n            'v': 31639,\n            'f': \"31639\",\n        }],\n [{\n            'v': 7,\n            'f': \"7\",\n        },\n\"2022-08-02\",\n{\n            'v': 32737,\n            'f': \"32737\",\n        }],\n [{\n            'v': 8,\n            'f': \"8\",\n        },\n\"2022-08-03\",\n{\n            'v': 29500,\n            'f': \"29500\",\n        }],\n [{\n            'v': 9,\n            'f': \"9\",\n        },\n\"2022-08-04\",\n{\n            'v': 30557,\n            'f': \"30557\",\n        }],\n [{\n            'v': 10,\n            'f': \"10\",\n        },\n\"2022-08-05\",\n{\n            'v': 30813,\n            'f': \"30813\",\n        }],\n [{\n            'v': 11,\n            'f': \"11\",\n        },\n\"2022-08-06\",\n{\n            'v': 30976,\n            'f': \"30976\",\n        }],\n [{\n            'v': 12,\n            'f': \"12\",\n        },\n\"2022-08-07\",\n{\n            'v': 30600,\n            'f': \"30600\",\n        }],\n [{\n            'v': 13,\n            'f': \"13\",\n        },\n\"2022-08-08\",\n{\n            'v': 32501,\n            'f': \"32501\",\n        }],\n [{\n            'v': 14,\n            'f': \"14\",\n        },\n\"2022-08-09\",\n{\n            'v': 31485,\n            'f': \"31485\",\n        }],\n [{\n            'v': 15,\n            'f': \"15\",\n        },\n\"2022-08-10\",\n{\n            'v': 31168,\n            'f': \"31168\",\n        }],\n [{\n            'v': 16,\n            'f': \"16\",\n        },\n\"2022-08-11\",\n{\n            'v': 30841,\n            'f': \"30841\",\n        }],\n [{\n            'v': 17,\n            'f': \"17\",\n        },\n\"2022-08-12\",\n{\n            'v': 32055,\n            'f': \"32055\",\n        }],\n [{\n            'v': 18,\n            'f': \"18\",\n        },\n\"2022-08-13\",\n{\n            'v': 31430,\n            'f': \"31430\",\n        }],\n [{\n            'v': 19,\n            'f': \"19\",\n        },\n\"2022-08-14\",\n{\n            'v': 32407,\n            'f': \"32407\",\n        }],\n [{\n            'v': 20,\n            'f': \"20\",\n        },\n\"2022-08-15\",\n{\n            'v': 33219,\n            'f': \"33219\",\n        }],\n [{\n            'v': 21,\n            'f': \"21\",\n        },\n\"2022-08-16\",\n{\n            'v': 34434,\n            'f': \"34434\",\n        }],\n [{\n            'v': 22,\n            'f': \"22\",\n        },\n\"2022-08-17\",\n{\n            'v': 34302,\n            'f': \"34302\",\n        }],\n [{\n            'v': 23,\n            'f': \"23\",\n        },\n\"2022-08-18\",\n{\n            'v': 32980,\n            'f': \"32980\",\n        }],\n [{\n            'v': 24,\n            'f': \"24\",\n        },\n\"2022-08-19\",\n{\n            'v': 34726,\n            'f': \"34726\",\n        }],\n [{\n            'v': 25,\n            'f': \"25\",\n        },\n\"2022-08-20\",\n{\n            'v': 33561,\n            'f': \"33561\",\n        }],\n [{\n            'v': 26,\n            'f': \"26\",\n        },\n\"2022-08-21\",\n{\n            'v': 32492,\n            'f': \"32492\",\n        }],\n [{\n            'v': 27,\n            'f': \"27\",\n        },\n\"2022-08-22\",\n{\n            'v': 31441,\n            'f': \"31441\",\n        }],\n [{\n            'v': 28,\n            'f': \"28\",\n        },\n\"2022-08-23\",\n{\n            'v': 33984,\n            'f': \"33984\",\n        }],\n [{\n            'v': 29,\n            'f': \"29\",\n        },\n\"2022-08-24\",\n{\n            'v': 32870,\n            'f': \"32870\",\n        }],\n [{\n            'v': 30,\n            'f': \"30\",\n        },\n\"2022-08-25\",\n{\n            'v': 32191,\n            'f': \"32191\",\n        }],\n [{\n            'v': 31,\n            'f': \"31\",\n        },\n\"2022-08-26\",\n{\n            'v': 33299,\n            'f': \"33299\",\n        }],\n [{\n            'v': 32,\n            'f': \"32\",\n        },\n\"2022-08-27\",\n{\n            'v': 32009,\n            'f': \"32009\",\n        }],\n [{\n            'v': 33,\n            'f': \"33\",\n        },\n\"2022-08-28\",\n{\n            'v': 29888,\n            'f': \"29888\",\n        }],\n [{\n            'v': 34,\n            'f': \"34\",\n        },\n\"2022-08-29\",\n{\n            'v': 30904,\n            'f': \"30904\",\n        }],\n [{\n            'v': 35,\n            'f': \"35\",\n        },\n\"2022-08-30\",\n{\n            'v': 27725,\n            'f': \"27725\",\n        }],\n [{\n            'v': 36,\n            'f': \"36\",\n        },\n\"2022-08-31\",\n{\n            'v': 24399,\n            'f': \"24399\",\n        }],\n [{\n            'v': 37,\n            'f': \"37\",\n        },\n\"2022-09-01\",\n{\n            'v': 24757,\n            'f': \"24757\",\n        }],\n [{\n            'v': 38,\n            'f': \"38\",\n        },\n\"2022-09-02\",\n{\n            'v': 25177,\n            'f': \"25177\",\n        }],\n [{\n            'v': 39,\n            'f': \"39\",\n        },\n\"2022-09-03\",\n{\n            'v': 23170,\n            'f': \"23170\",\n        }],\n [{\n            'v': 40,\n            'f': \"40\",\n        },\n\"2022-09-04\",\n{\n            'v': 21518,\n            'f': \"21518\",\n        }],\n [{\n            'v': 41,\n            'f': \"41\",\n        },\n\"2022-09-05\",\n{\n            'v': 23102,\n            'f': \"23102\",\n        }],\n [{\n            'v': 42,\n            'f': \"42\",\n        },\n\"2022-09-06\",\n{\n            'v': 25084,\n            'f': \"25084\",\n        }],\n [{\n            'v': 43,\n            'f': \"43\",\n        },\n\"2022-09-07\",\n{\n            'v': 23724,\n            'f': \"23724\",\n        }],\n [{\n            'v': 44,\n            'f': \"44\",\n        },\n\"2022-09-08\",\n{\n            'v': 24341,\n            'f': \"24341\",\n        }],\n [{\n            'v': 45,\n            'f': \"45\",\n        },\n\"2022-09-09\",\n{\n            'v': 25264,\n            'f': \"25264\",\n        }],\n [{\n            'v': 46,\n            'f': \"46\",\n        },\n\"2022-09-10\",\n{\n            'v': 24074,\n            'f': \"24074\",\n        }],\n [{\n            'v': 47,\n            'f': \"47\",\n        },\n\"2022-09-11\",\n{\n            'v': 22608,\n            'f': \"22608\",\n        }],\n [{\n            'v': 48,\n            'f': \"48\",\n        },\n\"2022-09-12\",\n{\n            'v': 23676,\n            'f': \"23676\",\n        }],\n [{\n            'v': 49,\n            'f': \"49\",\n        },\n\"2022-09-13\",\n{\n            'v': 23845,\n            'f': \"23845\",\n        }],\n [{\n            'v': 50,\n            'f': \"50\",\n        },\n\"2022-09-14\",\n{\n            'v': 23985,\n            'f': \"23985\",\n        }],\n [{\n            'v': 51,\n            'f': \"51\",\n        },\n\"2022-09-15\",\n{\n            'v': 23353,\n            'f': \"23353\",\n        }],\n [{\n            'v': 52,\n            'f': \"52\",\n        },\n\"2022-09-16\",\n{\n            'v': 24748,\n            'f': \"24748\",\n        }],\n [{\n            'v': 53,\n            'f': \"53\",\n        },\n\"2022-09-17\",\n{\n            'v': 22772,\n            'f': \"22772\",\n        }],\n [{\n            'v': 54,\n            'f': \"54\",\n        },\n\"2022-09-18\",\n{\n            'v': 21992,\n            'f': \"21992\",\n        }],\n [{\n            'v': 55,\n            'f': \"55\",\n        },\n\"2022-09-19\",\n{\n            'v': 22855,\n            'f': \"22855\",\n        }],\n [{\n            'v': 56,\n            'f': \"56\",\n        },\n\"2022-09-20\",\n{\n            'v': 24532,\n            'f': \"24532\",\n        }],\n [{\n            'v': 57,\n            'f': \"57\",\n        },\n\"2022-09-21\",\n{\n            'v': 22698,\n            'f': \"22698\",\n        }],\n [{\n            'v': 58,\n            'f': \"58\",\n        },\n\"2022-09-22\",\n{\n            'v': 25106,\n            'f': \"25106\",\n        }],\n [{\n            'v': 59,\n            'f': \"59\",\n        },\n\"2022-09-23\",\n{\n            'v': 23644,\n            'f': \"23644\",\n        }],\n [{\n            'v': 60,\n            'f': \"60\",\n        },\n\"2022-09-24\",\n{\n            'v': 22186,\n            'f': \"22186\",\n        }],\n [{\n            'v': 61,\n            'f': \"61\",\n        },\n\"2022-09-25\",\n{\n            'v': 19709,\n            'f': \"19709\",\n        }],\n [{\n            'v': 62,\n            'f': \"62\",\n        },\n\"2022-09-26\",\n{\n            'v': 20004,\n            'f': \"20004\",\n        }],\n [{\n            'v': 63,\n            'f': \"63\",\n        },\n\"2022-09-27\",\n{\n            'v': 21955,\n            'f': \"21955\",\n        }],\n [{\n            'v': 64,\n            'f': \"64\",\n        },\n\"2022-09-28\",\n{\n            'v': 24962,\n            'f': \"24962\",\n        }],\n [{\n            'v': 65,\n            'f': \"65\",\n        },\n\"2022-09-29\",\n{\n            'v': 26997,\n            'f': \"26997\",\n        }],\n [{\n            'v': 66,\n            'f': \"66\",\n        },\n\"2022-09-30\",\n{\n            'v': 26252,\n            'f': \"26252\",\n        }],\n [{\n            'v': 67,\n            'f': \"67\",\n        },\n\"2022-10-01\",\n{\n            'v': 19746,\n            'f': \"19746\",\n        }],\n [{\n            'v': 68,\n            'f': \"68\",\n        },\n\"2022-10-02\",\n{\n            'v': 19653,\n            'f': \"19653\",\n        }],\n [{\n            'v': 69,\n            'f': \"69\",\n        },\n\"2022-10-03\",\n{\n            'v': 20059,\n            'f': \"20059\",\n        }],\n [{\n            'v': 70,\n            'f': \"70\",\n        },\n\"2022-10-04\",\n{\n            'v': 25625,\n            'f': \"25625\",\n        }],\n [{\n            'v': 71,\n            'f': \"71\",\n        },\n\"2022-10-05\",\n{\n            'v': 24296,\n            'f': \"24296\",\n        }],\n [{\n            'v': 72,\n            'f': \"72\",\n        },\n\"2022-10-06\",\n{\n            'v': 22425,\n            'f': \"22425\",\n        }],\n [{\n            'v': 73,\n            'f': \"73\",\n        },\n\"2022-10-07\",\n{\n            'v': 24406,\n            'f': \"24406\",\n        }],\n [{\n            'v': 74,\n            'f': \"74\",\n        },\n\"2022-10-08\",\n{\n            'v': 24265,\n            'f': \"24265\",\n        }],\n [{\n            'v': 75,\n            'f': \"75\",\n        },\n\"2022-10-09\",\n{\n            'v': 23508,\n            'f': \"23508\",\n        }],\n [{\n            'v': 76,\n            'f': \"76\",\n        },\n\"2022-10-10\",\n{\n            'v': 22344,\n            'f': \"22344\",\n        }],\n [{\n            'v': 77,\n            'f': \"77\",\n        },\n\"2022-10-11\",\n{\n            'v': 22168,\n            'f': \"22168\",\n        }],\n [{\n            'v': 78,\n            'f': \"78\",\n        },\n\"2022-10-12\",\n{\n            'v': 23771,\n            'f': \"23771\",\n        }],\n [{\n            'v': 79,\n            'f': \"79\",\n        },\n\"2022-10-13\",\n{\n            'v': 22075,\n            'f': \"22075\",\n        }],\n [{\n            'v': 80,\n            'f': \"80\",\n        },\n\"2022-10-14\",\n{\n            'v': 24290,\n            'f': \"24290\",\n        }],\n [{\n            'v': 81,\n            'f': \"81\",\n        },\n\"2022-10-15\",\n{\n            'v': 22021,\n            'f': \"22021\",\n        }],\n [{\n            'v': 82,\n            'f': \"82\",\n        },\n\"2022-10-16\",\n{\n            'v': 22368,\n            'f': \"22368\",\n        }],\n [{\n            'v': 83,\n            'f': \"83\",\n        },\n\"2022-10-17\",\n{\n            'v': 23537,\n            'f': \"23537\",\n        }],\n [{\n            'v': 84,\n            'f': \"84\",\n        },\n\"2022-10-18\",\n{\n            'v': 22606,\n            'f': \"22606\",\n        }],\n [{\n            'v': 85,\n            'f': \"85\",\n        },\n\"2022-10-19\",\n{\n            'v': 19084,\n            'f': \"19084\",\n        }],\n [{\n            'v': 86,\n            'f': \"86\",\n        },\n\"2022-10-20\",\n{\n            'v': 18168,\n            'f': \"18168\",\n        }],\n [{\n            'v': 87,\n            'f': \"87\",\n        },\n\"2022-10-21\",\n{\n            'v': 19182,\n            'f': \"19182\",\n        }],\n [{\n            'v': 88,\n            'f': \"88\",\n        },\n\"2022-10-22\",\n{\n            'v': 17370,\n            'f': \"17370\",\n        }],\n [{\n            'v': 89,\n            'f': \"89\",\n        },\n\"2022-10-23\",\n{\n            'v': 17615,\n            'f': \"17615\",\n        }],\n [{\n            'v': 90,\n            'f': \"90\",\n        },\n\"2022-10-24\",\n{\n            'v': 18300,\n            'f': \"18300\",\n        }]],\n        columns: [[\"number\", \"index\"], [\"string\", \"date\"], [\"number\", \"number_of_transactions\"]],\n        columnOptions: [{\"width\": \"1px\", \"className\": \"index_column\"}],\n        rowsPerPage: 25,\n        helpUrl: \"https://colab.research.google.com/notebooks/data_table.ipynb\",\n        suppressOutputScrolling: true,\n        minimumWidth: undefined,\n      });\n    "
          },
          "metadata": {},
          "execution_count": 55
        }
      ],
      "source": [
        "# Running this code will read results from your previous job\n",
        "\n",
        "job = client.get_job('bquxjob_30816329_184148cbf49') # Job ID inserted based on the query results selected to explore\n",
        "df = job.to_dataframe()\n",
        "df"
      ]
    },
    {
      "cell_type": "code",
      "source": [
        "import pandas as pd\n",
        "\n",
        "df.date = pd.to_datetime(df['date'], format='%Y-%m-%d')\n",
        "df.set_index(['date'],inplace=True)\n",
        "df.plot(title='Evolution of number of transactions in the last 3 months')"
      ],
      "metadata": {
        "colab": {
          "base_uri": "https://localhost:8080/",
          "height": 347
        },
        "id": "AYp9JS0sjd91",
        "outputId": "0367f1a4-2e0d-4ba3-cfba-9351e10a53ce"
      },
      "execution_count": 56,
      "outputs": [
        {
          "output_type": "execute_result",
          "data": {
            "text/plain": [
              "<matplotlib.axes._subplots.AxesSubplot at 0x7f5aae6ab510>"
            ]
          },
          "metadata": {},
          "execution_count": 56
        },
        {
          "output_type": "display_data",
          "data": {
            "text/plain": [
              "<Figure size 432x288 with 1 Axes>"
            ],
            "image/png": "[encoded data removed]"
          },
          "metadata": {
            "needs_background": "light"
          }
        }
      ]
    }
  ],
  "metadata": {
    "colab": {
      "cell_execution_strategy": "setup",
      "provenance": [],
      "collapsed_sections": []
    },
    "kernelspec": {
      "display_name": "Python 3",
      "name": "python3"
    },
    "language_info": {
      "name": "python"
    }
  },
  "nbformat": 4,
  "nbformat_minor": 0
}